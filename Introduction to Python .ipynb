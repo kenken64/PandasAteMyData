{
 "cells": [
  {
   "cell_type": "markdown",
   "id": "869c261d",
   "metadata": {},
   "source": [
    "    Print out your hello world"
   ]
  },
  {
   "cell_type": "code",
   "execution_count": 1,
   "id": "c68bd50f",
   "metadata": {},
   "outputs": [
    {
     "name": "stdout",
     "output_type": "stream",
     "text": [
      "hello world !\n"
     ]
    }
   ],
   "source": [
    "print(\"hello world !\")"
   ]
  },
  {
   "cell_type": "markdown",
   "id": "42ac737f",
   "metadata": {},
   "source": [
    "Take in user input"
   ]
  },
  {
   "cell_type": "code",
   "execution_count": 3,
   "id": "27fef8d0",
   "metadata": {},
   "outputs": [
    {
     "name": "stdout",
     "output_type": "stream",
     "text": [
      "How old are you? 44\n"
     ]
    }
   ],
   "source": [
    "age = input(\"How old are you? \")"
   ]
  },
  {
   "cell_type": "code",
   "execution_count": 4,
   "id": "0f0585f8",
   "metadata": {},
   "outputs": [
    {
     "data": {
      "text/plain": [
       "'44'"
      ]
     },
     "execution_count": 4,
     "metadata": {},
     "output_type": "execute_result"
    }
   ],
   "source": [
    "age"
   ]
  },
  {
   "cell_type": "code",
   "execution_count": 6,
   "id": "45d36a82",
   "metadata": {},
   "outputs": [],
   "source": [
    "# this is a comment"
   ]
  },
  {
   "cell_type": "code",
   "execution_count": 7,
   "id": "72e360af",
   "metadata": {},
   "outputs": [
    {
     "data": {
      "text/plain": [
       "'\\nThis is multi line comment\\n'"
      ]
     },
     "execution_count": 7,
     "metadata": {},
     "output_type": "execute_result"
    }
   ],
   "source": [
    "\"\"\"\n",
    "This is multi line comment\n",
    "\"\"\""
   ]
  },
  {
   "cell_type": "markdown",
   "id": "56b74363",
   "metadata": {},
   "source": [
    "The f means Formatted string literals and it's new in"
   ]
  },
  {
   "cell_type": "code",
   "execution_count": 19,
   "id": "47c0c462",
   "metadata": {},
   "outputs": [
    {
     "name": "stdout",
     "output_type": "stream",
     "text": [
      "My name is Kenneth\n"
     ]
    }
   ],
   "source": [
    "name = \"Kenneth\"\n",
    "print(f\"My name is {name}\")"
   ]
  },
  {
   "cell_type": "code",
   "execution_count": 26,
   "id": "08712e74",
   "metadata": {},
   "outputs": [
    {
     "name": "stdout",
     "output_type": "stream",
     "text": [
      "What is x ? 999\n",
      "What is y ? 1\n",
      "1000\n",
      "999.00\n"
     ]
    }
   ],
   "source": [
    "x = input(\"What is x ? \")\n",
    "y = input(\"What is y ? \")\n",
    "z  = int(x) + int(y)\n",
    "print(z)\n",
    "w  = float(x) / float(y)\n",
    "print(f\"{w:.2f}\")"
   ]
  },
  {
   "cell_type": "code",
   "execution_count": 27,
   "id": "6c19af1e",
   "metadata": {},
   "outputs": [
    {
     "name": "stdout",
     "output_type": "stream",
     "text": [
      "1\n"
     ]
    }
   ],
   "source": [
    "arr = [1,2,3,4]\n",
    "print(arr[0])"
   ]
  },
  {
   "cell_type": "code",
   "execution_count": 4,
   "id": "22f7d188",
   "metadata": {},
   "outputs": [
    {
     "name": "stdout",
     "output_type": "stream",
     "text": [
      "1\n",
      "(1, 2, 3, 4)\n"
     ]
    }
   ],
   "source": [
    "t = (1,2,3,4)\n",
    "print(t[0])\n",
    "#t[2] = 5\n",
    "print(t)"
   ]
  },
  {
   "cell_type": "code",
   "execution_count": 6,
   "id": "9550e5d1",
   "metadata": {},
   "outputs": [
    {
     "name": "stdout",
     "output_type": "stream",
     "text": [
      "1\n"
     ]
    }
   ],
   "source": [
    "d = {\n",
    "    \"x\":1,\n",
    "    \"y\":2\n",
    "}\n",
    "print(d[\"x\"])"
   ]
  },
  {
   "cell_type": "code",
   "execution_count": 33,
   "id": "e88936c6",
   "metadata": {},
   "outputs": [
    {
     "name": "stdout",
     "output_type": "stream",
     "text": [
      "0\n",
      "1\n"
     ]
    }
   ],
   "source": [
    "for x in range(2):\n",
    "    print(x)"
   ]
  },
  {
   "cell_type": "code",
   "execution_count": 34,
   "id": "be7bcdb7",
   "metadata": {},
   "outputs": [
    {
     "name": "stdout",
     "output_type": "stream",
     "text": [
      "1\n",
      "2\n",
      "3\n",
      "4\n"
     ]
    }
   ],
   "source": [
    "for x in arr:\n",
    "    print(x)"
   ]
  },
  {
   "cell_type": "code",
   "execution_count": 38,
   "id": "8dd6aa7e",
   "metadata": {},
   "outputs": [
    {
     "name": "stdout",
     "output_type": "stream",
     "text": [
      "Quit or Not y/n? n\n",
      "Not quiting\n",
      "Quit or Not y/n? n\n",
      "Not quiting\n",
      "Quit or Not y/n? y\n"
     ]
    }
   ],
   "source": [
    "while input(\"Quit or Not y/n? \") == 'n':\n",
    "    print(\"Not quiting\")\n",
    "    "
   ]
  },
  {
   "cell_type": "code",
   "execution_count": 46,
   "id": "478143f3",
   "metadata": {},
   "outputs": [
    {
     "name": "stdout",
     "output_type": "stream",
     "text": [
      "what are you ? 1/2/33\n",
      "I am a 🧑\n"
     ]
    }
   ],
   "source": [
    "y = int(input(\"what are you ? 1/2/3\"))\n",
    "if y == 1:\n",
    "    print(\"I am a 🐐 \")\n",
    "elif y == 2:\n",
    "    print(\"I am a 🦄 \")\n",
    "else:\n",
    "    print(\"I am a 🧑\")"
   ]
  },
  {
   "cell_type": "markdown",
   "id": "a042c19b",
   "metadata": {},
   "source": [
    "Error handling"
   ]
  },
  {
   "cell_type": "code",
   "execution_count": 47,
   "id": "f9de6cb9",
   "metadata": {},
   "outputs": [
    {
     "name": "stdout",
     "output_type": "stream",
     "text": [
      "Enter a number ? a\n",
      "x is not an integer\n",
      "x is 4\n"
     ]
    }
   ],
   "source": [
    "try: \n",
    "    x = int(input(\"Enter a number ? \"))\n",
    "except ValueError:\n",
    "    print(\"x is not an integer\")\n",
    "    \n",
    "print(f\"x is {x}\")"
   ]
  },
  {
   "cell_type": "code",
   "execution_count": 52,
   "id": "9bb8441c",
   "metadata": {},
   "outputs": [
    {
     "name": "stdout",
     "output_type": "stream",
     "text": [
      "Writing test.py\n"
     ]
    }
   ],
   "source": [
    "%%file test.py\n",
    "import sys\n",
    "\n",
    "if __name__ == '__main__':\n",
    "    print(sys.argv)"
   ]
  },
  {
   "cell_type": "code",
   "execution_count": 53,
   "id": "b4bb5470",
   "metadata": {},
   "outputs": [
    {
     "data": {
      "text/plain": [
       "[\"['test.py', 'first', '2nd', '3rd']\"]"
      ]
     },
     "execution_count": 53,
     "metadata": {},
     "output_type": "execute_result"
    }
   ],
   "source": [
    "%%!\n",
    "python test.py first 2nd 3rd"
   ]
  },
  {
   "cell_type": "code",
   "execution_count": 57,
   "id": "6a0e2b36",
   "metadata": {},
   "outputs": [
    {
     "name": "stdout",
     "output_type": "stream",
     "text": [
      "test 1\n",
      "test 2\n",
      "hello\n",
      "kenneth\n",
      "47\n"
     ]
    }
   ],
   "source": [
    "def test1():\n",
    "    print(\"test 1\")\n",
    "\n",
    "def test2():\n",
    "    print(\"test 2\")\n",
    "\n",
    "def test3(x):\n",
    "    print(x)\n",
    "    \n",
    "def test4():\n",
    "    return \"kenneth\", 47\n",
    "    \n",
    "if __name__ == '__main__':\n",
    "    test1()\n",
    "    test2()\n",
    "    test3(\"hello\")\n",
    "    r = test4()\n",
    "    print(r[0])\n",
    "    print(r[1])\n",
    "    "
   ]
  },
  {
   "cell_type": "code",
   "execution_count": 67,
   "id": "b5f44ad8",
   "metadata": {},
   "outputs": [
    {
     "name": "stdout",
     "output_type": "stream",
     "text": [
      "balance is local variable\n",
      "300\n"
     ]
    }
   ],
   "source": [
    "balance = 200\n",
    "\n",
    "def accountBalance():\n",
    "    try:\n",
    "        balance = balance +100;\n",
    "    except UnboundLocalError:\n",
    "        print(\"balance is local variable\")\n",
    "\n",
    "def accountBalance2():\n",
    "    global balance\n",
    "    balance = balance +100;\n",
    "    print(balance)\n",
    "\n",
    "accountBalance()\n",
    "accountBalance2()"
   ]
  },
  {
   "cell_type": "code",
   "execution_count": 17,
   "id": "e1b8fe41",
   "metadata": {},
   "outputs": [
    {
     "name": "stdout",
     "output_type": "stream",
     "text": [
      "Do you want to play a game of Blackjack? Type 'y' or 'n': y\n",
      "   Your cards: [10, 10], current score: 20\n",
      "   Computer's first card: 11\n",
      "Type 'y' to get another card, type 'n' to pass: n\n",
      "   Your final hand: [10, 10], final score: 20\n",
      "   Computer's final hand: [11, 6], final score: 17\n",
      "You win 😃\n",
      "Do you want to play a game of Blackjack? Type 'y' or 'n': n\n"
     ]
    }
   ],
   "source": [
    "import random\n",
    "\n",
    "def deal_card():\n",
    "  \"\"\"Returns a random card from the deck.\"\"\"\n",
    "  cards = [11, 2, 3, 4, 5, 6, 7, 8, 9, 10, 10, 10, 10]\n",
    "  card = random.choice(cards)\n",
    "  return card\n",
    "\n",
    "def calculate_score(cards):\n",
    "  \"\"\"Take a list of cards and return the score calculated from the cards\"\"\"\n",
    "\n",
    "  if sum(cards) == 21 and len(cards) == 2:\n",
    "    return 0\n",
    "  if 11 in cards and sum(cards) > 21:\n",
    "    cards.remove(11)\n",
    "    cards.append(1)\n",
    "  return sum(cards)\n",
    "\n",
    "def compare(user_score, computer_score):\n",
    "  #Bug fix. If you and the computer are both over, you lose.\n",
    "  if user_score > 21 and computer_score > 21:\n",
    "    return \"You went over. You lose 😤\"\n",
    "\n",
    "  if user_score == computer_score:\n",
    "    return \"Draw 🙃\"\n",
    "  elif computer_score == 0:\n",
    "    return \"Lose, opponent has Blackjack 😱\"\n",
    "  elif user_score == 0:\n",
    "    return \"Win with a Blackjack 😎\"\n",
    "  elif user_score > 21:\n",
    "    return \"You went over. You lose 😭\"\n",
    "  elif computer_score > 21:\n",
    "    return \"Opponent went over. You win 😁\"\n",
    "  elif user_score > computer_score:\n",
    "    return \"You win 😃\"\n",
    "  else:\n",
    "    return \"You lose 😤\"\n",
    "\n",
    "def play_game():\n",
    "\n",
    "  user_cards = []\n",
    "  computer_cards = []\n",
    "  is_game_over = False\n",
    "\n",
    "  for _ in range(2):\n",
    "    user_cards.append(deal_card())\n",
    "    computer_cards.append(deal_card())\n",
    "\n",
    "  while not is_game_over:\n",
    "    user_score = calculate_score(user_cards)\n",
    "    computer_score = calculate_score(computer_cards)\n",
    "    print(f\"   Your cards: {user_cards}, current score: {user_score}\")\n",
    "    print(f\"   Computer's first card: {computer_cards[0]}\")\n",
    "\n",
    "    if user_score == 0 or computer_score == 0 or user_score > 21:\n",
    "      is_game_over = True\n",
    "    else:\n",
    "      user_should_deal = input(\"Type 'y' to get another card, type 'n' to pass: \")\n",
    "      if user_should_deal == \"y\":\n",
    "        user_cards.append(deal_card())\n",
    "      else:\n",
    "        is_game_over = True\n",
    "\n",
    "  while computer_score != 0 and computer_score < 17:\n",
    "    computer_cards.append(deal_card())\n",
    "    computer_score = calculate_score(computer_cards)\n",
    "\n",
    "  print(f\"   Your final hand: {user_cards}, final score: {user_score}\")\n",
    "  print(f\"   Computer's final hand: {computer_cards}, final score: {computer_score}\")\n",
    "  print(compare(user_score, computer_score))\n",
    "\n",
    "while input(\"Do you want to play a game of Blackjack? Type 'y' or 'n': \") == \"y\":\n",
    "  play_game()\n"
   ]
  },
  {
   "cell_type": "code",
   "execution_count": null,
   "id": "bbeef1c4",
   "metadata": {},
   "outputs": [],
   "source": []
  }
 ],
 "metadata": {
  "kernelspec": {
   "display_name": "Python 3 (ipykernel)",
   "language": "python",
   "name": "python3"
  },
  "language_info": {
   "codemirror_mode": {
    "name": "ipython",
    "version": 3
   },
   "file_extension": ".py",
   "mimetype": "text/x-python",
   "name": "python",
   "nbconvert_exporter": "python",
   "pygments_lexer": "ipython3",
   "version": "3.10.6"
  }
 },
 "nbformat": 4,
 "nbformat_minor": 5
}
